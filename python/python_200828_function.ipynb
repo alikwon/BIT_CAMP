{
 "cells": [
  {
   "cell_type": "code",
   "execution_count": 43,
   "metadata": {
    "scrolled": true
   },
   "outputs": [
    {
     "name": "stdout",
     "output_type": "stream",
     "text": [
      "1\n",
      "213\n",
      "370\n",
      "[63, 34, 5, 54, 213, 1]\n",
      "<인덱스 변수 사용>\n",
      "1번째 요소: 1\n",
      "2번째 요소: 213\n",
      "3번째 요소: 54\n",
      "4번째 요소: 5\n",
      "5번째 요소: 34\n",
      "6번째 요소: 63\n",
      "<range사용>\n",
      "1번째 요소: 1\n",
      "2번째 요소: 213\n",
      "3번째 요소: 54\n",
      "4번째 요소: 5\n",
      "5번째 요소: 34\n",
      "6번째 요소: 63\n"
     ]
    }
   ],
   "source": [
    "num = [1,213,54,5,34,63]\n",
    "\n",
    "print(min(num))\n",
    "print(max(num))\n",
    "print(sum(num))\n",
    "\n",
    "#순서뒤집기\n",
    "rv_num = reversed(num) \n",
    "\n",
    "print(list(rv_num))\n",
    "\n",
    "print('<인덱스 변수 사용>')\n",
    "#인덱스로 사용할 변수\n",
    "i=0\n",
    "for item in num:\n",
    "    print('{}번째 요소: {}'.format(i+1,item))\n",
    "    i+=1\n",
    "    \n",
    "print('<range사용>')\n",
    "for j in range(len(num)):\n",
    "    print('{}번째 요소: {}'.format(j+1,num[j]))\n"
   ]
  },
  {
   "cell_type": "code",
   "execution_count": 44,
   "metadata": {},
   "outputs": [
    {
     "name": "stdout",
     "output_type": "stream",
     "text": [
      "<enumerate사용>\n",
      "<enumerate object at 0x000001CA99B80440>\n",
      "[(0, 1), (1, 213), (2, 54), (3, 5), (4, 34), (5, 63)]\n",
      "1번째 요소: 1\n",
      "2번째 요소: 213\n",
      "3번째 요소: 54\n",
      "4번째 요소: 5\n",
      "5번째 요소: 34\n",
      "6번째 요소: 63\n"
     ]
    }
   ],
   "source": [
    "print('<enumerate사용>')\n",
    "#enumerate() 함수 적용해서 출력\n",
    "print (enumerate(num))\n",
    "#list() 함수 적용해서 출력\n",
    "print(list(enumerate(num))) \n",
    "\n",
    "for i,val in enumerate(num):\n",
    "    print('{}번째 요소: {}'.format(i+1,val))"
   ]
  },
  {
   "cell_type": "code",
   "execution_count": 45,
   "metadata": {},
   "outputs": [
    {
     "name": "stdout",
     "output_type": "stream",
     "text": [
      "exam_dic.items():  dict_items([('key1', 'val1'), ('key2', 'val2'), ('key3', 'val3')])\n",
      "키값:key1 ==> 값: val1\n",
      "키값:key2 ==> 값: val2\n",
      "키값:key3 ==> 값: val3\n"
     ]
    }
   ],
   "source": [
    "exam_dic = {\n",
    "    'key1':'val1',\n",
    "    'key2':'val2',\n",
    "    'key3':'val3',\n",
    "}\n",
    "\n",
    "#item()함수 사용 : list형식으로 일괄참조 가능\n",
    "print('exam_dic.items(): ',exam_dic.items())\n",
    "\n",
    "for key,val in exam_dic.items():\n",
    "    print ('키값:{} ==> 값: {}'.format(key,val))"
   ]
  },
  {
   "cell_type": "code",
   "execution_count": 48,
   "metadata": {},
   "outputs": [
    {
     "name": "stdout",
     "output_type": "stream",
     "text": [
      "[0, 4, 16, 36, 64, 100, 144, 196, 256, 324, 400]\n"
     ]
    }
   ],
   "source": [
    "#list 안에 for문 사용 [for in]\n",
    "arr= [i*i for i in range(0,21,2)]\n",
    "print(arr)"
   ]
  },
  {
   "cell_type": "code",
   "execution_count": 49,
   "metadata": {},
   "outputs": [
    {
     "name": "stdout",
     "output_type": "stream",
     "text": [
      "['사과', '자두', '바나나', '체리']\n"
     ]
    }
   ],
   "source": [
    "#리스트이름 = [표현식 for 반복자 in (반복가능한 정제되지 않은 데이터) if 조건문]\n",
    "arr = ['사과','자두','초코릿','바나나','체리']\n",
    "output=[i for i in arr if i!='초코릿']\n",
    "\n",
    "print(output)"
   ]
  },
  {
   "cell_type": "code",
   "execution_count": 51,
   "metadata": {},
   "outputs": [
    {
     "name": "stdout",
     "output_type": "stream",
     "text": [
      "안녕하세요\n",
      "안녕하세요\n",
      "안녕하세요\n"
     ]
    }
   ],
   "source": [
    "#사용자 정의 함수 : def 키워드를 이용해서 함수 정의\n",
    "\n",
    "def print_3_times():\n",
    "    print('안녕하세요')\n",
    "    print('안녕하세요')\n",
    "    print('안녕하세요')\n",
    "    \n",
    "print_3_times()"
   ]
  },
  {
   "cell_type": "code",
   "execution_count": 55,
   "metadata": {},
   "outputs": [
    {
     "name": "stdout",
     "output_type": "stream",
     "text": [
      "안녕하세요\n",
      "안녕하세요\n",
      "안녕하세요\n"
     ]
    }
   ],
   "source": [
    "def print_n_times(val, n): #val:출력데이터, n:출력횟수\n",
    "    for i in range(n):\n",
    "        print(val)\n",
    "\n",
    "print_n_times('안녕하세요',3)"
   ]
  },
  {
   "cell_type": "code",
   "execution_count": 64,
   "metadata": {},
   "outputs": [
    {
     "name": "stdout",
     "output_type": "stream",
     "text": [
      "ㅎㅇ\n",
      "뭐함\n",
      "배고픔\n",
      "-------------------\n",
      "ㅎㅇ\n",
      "뭐함\n",
      "배고픔\n",
      "-------------------\n",
      "ㅎㅇ\n",
      "뭐함\n",
      "배고픔\n",
      "-------------------\n",
      "함수끝\n"
     ]
    }
   ],
   "source": [
    "def print_n_times2(*val,n=3): #가변 매개변수, 매개변수에 기본값(꼭 뒤에..)을 정해줌\n",
    "    #n번 반복\n",
    "    for i in range(n):\n",
    "        for j in val:\n",
    "            print(j)\n",
    "        print('-------------------')\n",
    "    print('함수끝')\n",
    "\n",
    "print_n_times2('ㅎㅇ','뭐함','배고픔')\n",
    "    "
   ]
  },
  {
   "cell_type": "code",
   "execution_count": 70,
   "metadata": {},
   "outputs": [
    {
     "name": "stdout",
     "output_type": "stream",
     "text": [
      "ㅎㅇ, ㅎㅇ, ㅎㅇ, ㅎㅇ, ㅎㅇ, ㅎㅇ, ㅎㅇ, ㅎㅇ, ㅎㅇ, ㅎㅇ, "
     ]
    }
   ],
   "source": [
    "#키워드 매개변수\n",
    "i = 0\n",
    "while i<10:\n",
    "    #end 기본값 end=\"\\n\"\n",
    "    print('ㅎㅇ',end=', ') \n",
    "    i+=1"
   ]
  },
  {
   "cell_type": "code",
   "execution_count": 71,
   "metadata": {},
   "outputs": [
    {
     "name": "stdout",
     "output_type": "stream",
     "text": [
      "<class 'tuple'>\n",
      "10\n"
     ]
    }
   ],
   "source": [
    "#tuple : 리스트와 유사하지만 한번 정의된 데이터는 변경 불가(상수와 유사)\n",
    "tuple_num = (10,20,30)\n",
    "print(type(tuple_num))\n",
    "print(tuple_num[0])"
   ]
  },
  {
   "cell_type": "code",
   "execution_count": 73,
   "metadata": {},
   "outputs": [
    {
     "ename": "TypeError",
     "evalue": "'tuple' object does not support item assignment",
     "output_type": "error",
     "traceback": [
      "\u001b[1;31m---------------------------------------------------------------------------\u001b[0m",
      "\u001b[1;31mTypeError\u001b[0m                                 Traceback (most recent call last)",
      "\u001b[1;32m<ipython-input-73-1ae583eff0aa>\u001b[0m in \u001b[0;36m<module>\u001b[1;34m\u001b[0m\n\u001b[1;32m----> 1\u001b[1;33m \u001b[0mtuple_num\u001b[0m\u001b[1;33m[\u001b[0m\u001b[1;36m0\u001b[0m\u001b[1;33m]\u001b[0m\u001b[1;33m=\u001b[0m\u001b[1;36m100\u001b[0m \u001b[1;31m# ERROR , 한번 설정된 값은 변경 불가\u001b[0m\u001b[1;33m\u001b[0m\u001b[1;33m\u001b[0m\u001b[0m\n\u001b[0m",
      "\u001b[1;31mTypeError\u001b[0m: 'tuple' object does not support item assignment"
     ]
    }
   ],
   "source": [
    "tuple_num[0]=100 # ERROR , 한번 설정된 값은 변경 불가"
   ]
  },
  {
   "cell_type": "code",
   "execution_count": 83,
   "metadata": {},
   "outputs": [
    {
     "name": "stdout",
     "output_type": "stream",
     "text": [
      "10\n",
      "20\n",
      "20\n",
      "10\n"
     ]
    }
   ],
   "source": [
    "def test():\n",
    "    return 10,20 #괄호없이도 튜플사용\n",
    "\n",
    "#각각 변수에 할당 가능쓰\n",
    "a,b = test()\n",
    "print(a)\n",
    "print(b)\n",
    "\n",
    "#값을 서로 바꿈\n",
    "a,b=b,a\n",
    "print(a)\n",
    "print(b)"
   ]
  },
  {
   "cell_type": "code",
   "execution_count": 1,
   "metadata": {},
   "outputs": [
    {
     "name": "stdout",
     "output_type": "stream",
     "text": [
      "<class 'map'>\n",
      "<class 'filter'>\n",
      "map : <map object at 0x0000028775F22610>\n",
      "filter : <filter object at 0x0000028775F225E0>\n",
      "map : [1, 4, 9, 16, 25]\n",
      "filter : [1, 2]\n"
     ]
    }
   ],
   "source": [
    "#람다식 함수\n",
    "power = lambda x: x*x\n",
    "under_3 = lambda x: x<3\n",
    "\n",
    "list_a = [1,2,3,4,5]\n",
    "output_map = map(power,list_a)\n",
    "output_filter = filter(under_3,list_a)\n",
    "\n",
    "print(type(output_map))\n",
    "print(type(output_filter))\n",
    "print('map :',output_map)\n",
    "print('filter :',output_filter)\n",
    "print('map :',list(output_map))\n",
    "print('filter :',list(output_filter))"
   ]
  },
  {
   "cell_type": "code",
   "execution_count": null,
   "metadata": {},
   "outputs": [],
   "source": []
  }
 ],
 "metadata": {
  "kernelspec": {
   "display_name": "Python 3",
   "language": "python",
   "name": "python3"
  },
  "language_info": {
   "codemirror_mode": {
    "name": "ipython",
    "version": 3
   },
   "file_extension": ".py",
   "mimetype": "text/x-python",
   "name": "python",
   "nbconvert_exporter": "python",
   "pygments_lexer": "ipython3",
   "version": "3.8.3"
  }
 },
 "nbformat": 4,
 "nbformat_minor": 4
}
