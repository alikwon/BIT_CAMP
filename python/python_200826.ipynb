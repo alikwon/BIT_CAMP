{
 "cells": [
  {
   "cell_type": "code",
   "execution_count": 1,
   "metadata": {},
   "outputs": [
    {
     "name": "stdout",
     "output_type": "stream",
     "text": [
      "['False', 'None', 'True', 'and', 'as', 'assert', 'async', 'await', 'break', 'class', 'continue', 'def', 'del', 'elif', 'else', 'except', 'finally', 'for', 'from', 'global', 'if', 'import', 'in', 'is', 'lambda', 'nonlocal', 'not', 'or', 'pass', 'raise', 'return', 'try', 'while', 'with', 'yield']\n"
     ]
    }
   ],
   "source": [
    "import keyword\n",
    "\n",
    "print(keyword.kwlist)"
   ]
  },
  {
   "cell_type": "code",
   "execution_count": 2,
   "metadata": {},
   "outputs": [
    {
     "name": "stdout",
     "output_type": "stream",
     "text": [
      "안녕하세요 \n",
      "저는 빠가사리입니다\n"
     ]
    }
   ],
   "source": [
    "print('''안녕하세요 \n",
    "저는 빠가사리입니다''')"
   ]
  },
  {
   "cell_type": "code",
   "execution_count": 6,
   "metadata": {},
   "outputs": [
    {
     "name": "stdout",
     "output_type": "stream",
     "text": [
      "안녕하세요 \n",
      "저는 빠가사리입니다\n"
     ]
    }
   ],
   "source": [
    "print('안녕하세요 \\n저는 빠가사리입니다')"
   ]
  },
  {
   "cell_type": "code",
   "execution_count": 11,
   "metadata": {},
   "outputs": [
    {
     "name": "stdout",
     "output_type": "stream",
     "text": [
      "ㅎㅇ염ㅎㅇ염ㅎㅇ염ㅎㅇ염ㅎㅇ염\n"
     ]
    }
   ],
   "source": [
    "print('ㅎㅇ염'*5)"
   ]
  },
  {
   "cell_type": "code",
   "execution_count": 12,
   "metadata": {},
   "outputs": [],
   "source": [
    "hello= '반갑습니다'"
   ]
  },
  {
   "cell_type": "code",
   "execution_count": 13,
   "metadata": {},
   "outputs": [
    {
     "data": {
      "text/plain": [
       "str"
      ]
     },
     "execution_count": 13,
     "metadata": {},
     "output_type": "execute_result"
    }
   ],
   "source": [
    "type(hello)"
   ]
  },
  {
   "cell_type": "code",
   "execution_count": 17,
   "metadata": {},
   "outputs": [
    {
     "name": "stdout",
     "output_type": "stream",
     "text": [
      "반\n",
      "갑\n",
      "습\n",
      "니\n",
      "다\n"
     ]
    },
    {
     "ename": "IndexError",
     "evalue": "string index out of range",
     "output_type": "error",
     "traceback": [
      "\u001b[1;31m---------------------------------------------------------------------------\u001b[0m",
      "\u001b[1;31mIndexError\u001b[0m                                Traceback (most recent call last)",
      "\u001b[1;32m<ipython-input-17-eb81f3fc65c8>\u001b[0m in \u001b[0;36m<module>\u001b[1;34m\u001b[0m\n\u001b[0;32m      4\u001b[0m \u001b[0mprint\u001b[0m\u001b[1;33m(\u001b[0m\u001b[0mhello\u001b[0m\u001b[1;33m[\u001b[0m\u001b[1;36m3\u001b[0m\u001b[1;33m]\u001b[0m\u001b[1;33m)\u001b[0m\u001b[1;33m\u001b[0m\u001b[1;33m\u001b[0m\u001b[0m\n\u001b[0;32m      5\u001b[0m \u001b[0mprint\u001b[0m\u001b[1;33m(\u001b[0m\u001b[0mhello\u001b[0m\u001b[1;33m[\u001b[0m\u001b[1;36m4\u001b[0m\u001b[1;33m]\u001b[0m\u001b[1;33m)\u001b[0m\u001b[1;33m\u001b[0m\u001b[1;33m\u001b[0m\u001b[0m\n\u001b[1;32m----> 6\u001b[1;33m \u001b[0mprint\u001b[0m\u001b[1;33m(\u001b[0m\u001b[0mhello\u001b[0m\u001b[1;33m[\u001b[0m\u001b[1;36m5\u001b[0m\u001b[1;33m]\u001b[0m\u001b[1;33m)\u001b[0m \u001b[1;31m#5번인덱스는 없음(index out of range)\u001b[0m\u001b[1;33m\u001b[0m\u001b[1;33m\u001b[0m\u001b[0m\n\u001b[0m",
      "\u001b[1;31mIndexError\u001b[0m: string index out of range"
     ]
    }
   ],
   "source": [
    "print(hello[0])\n",
    "print(hello[1])\n",
    "print(hello[2])\n",
    "print(hello[3])\n",
    "print(hello[4])\n",
    "#print(hello[5]) #index out of range"
   ]
  },
  {
   "cell_type": "code",
   "execution_count": 22,
   "metadata": {},
   "outputs": [
    {
     "name": "stdout",
     "output_type": "stream",
     "text": [
      "다\n",
      "니\n",
      "습\n",
      "갑\n",
      "반\n"
     ]
    }
   ],
   "source": [
    "#뒤부터 선택하기\n",
    "print(hello[-1])\n",
    "print(hello[-2])\n",
    "print(hello[-3])\n",
    "print(hello[-4])\n",
    "print(hello[-5])\n",
    "#print(hello[-6]) #index out of range"
   ]
  },
  {
   "cell_type": "code",
   "execution_count": 30,
   "metadata": {},
   "outputs": [
    {
     "name": "stdout",
     "output_type": "stream",
     "text": [
      "반갑습니다\n",
      "갑습니\n",
      "반갑습니\n",
      "갑습니다\n",
      "\n"
     ]
    }
   ],
   "source": [
    "print(hello)\n",
    "print(hello[1:4])\n",
    "print(hello[:4])\n",
    "print(hello[1:])\n",
    "print(hello[10:7]) #오류를 만들진 않지만 출력하지 못함"
   ]
  },
  {
   "cell_type": "code",
   "execution_count": 32,
   "metadata": {},
   "outputs": [
    {
     "name": "stdout",
     "output_type": "stream",
     "text": [
      "5\n"
     ]
    }
   ],
   "source": [
    "print(len(hello)) #문자열 길이"
   ]
  },
  {
   "cell_type": "code",
   "execution_count": 45,
   "metadata": {},
   "outputs": [
    {
     "name": "stdout",
     "output_type": "stream",
     "text": [
      "/ 연산 :3.3333333333333335\n",
      "//연산 : 3\n",
      "제곱 : 1000\n"
     ]
    }
   ],
   "source": [
    "print('/ 연산 :',str(10/3))\n",
    "print('//연산 :',10//3) # '//'를 사용할 경우 float지만 소수점을 제외한 값반환\n",
    "print('제곱 :',10**3) # 10의 3제곱"
   ]
  },
  {
   "cell_type": "code",
   "execution_count": 52,
   "metadata": {},
   "outputs": [
    {
     "name": "stdout",
     "output_type": "stream",
     "text": [
      "인사해주세요>1234\n"
     ]
    },
    {
     "data": {
      "text/plain": [
       "str"
      ]
     },
     "execution_count": 52,
     "metadata": {},
     "output_type": "execute_result"
    }
   ],
   "source": [
    "hi = input('인사해주세요>') #JavaScript의 prompt와 비슷 , 출력값은 무조건 String\n",
    "type(hi)"
   ]
  },
  {
   "cell_type": "code",
   "execution_count": 56,
   "metadata": {},
   "outputs": [
    {
     "name": "stdout",
     "output_type": "stream",
     "text": [
      "<class 'int'> 52\n",
      "<class 'float'> 52.273\n"
     ]
    }
   ],
   "source": [
    "output_a = int('52')\n",
    "output_b = float('52.273')\n",
    "\n",
    "print(type(output_a),output_a)\n",
    "print(type(output_b),output_b)"
   ]
  },
  {
   "cell_type": "code",
   "execution_count": 62,
   "metadata": {},
   "outputs": [
    {
     "name": "stdout",
     "output_type": "stream",
     "text": [
      "1st 숫자>1\n",
      "2nd 숫자>1\n",
      "+: 2.0\n",
      "-: 0.0\n",
      "*: 1.0\n",
      "**: 1.0\n",
      "/: 1.0\n",
      "//: 1.0\n",
      "%: 0.0\n"
     ]
    }
   ],
   "source": [
    "input_a=float(input('1st 숫자>'))\n",
    "input_b=float(input('2nd 숫자>'))\n",
    "\n",
    "print('+:',input_a+input_b)\n",
    "print('-:',input_a-input_b)\n",
    "print('*:',input_a*input_b)\n",
    "print('**:',input_a**input_b)\n",
    "print('/:',input_a/input_b)\n",
    "print('//:',input_a//input_b)\n",
    "print('%:',input_a%input_b)\n"
   ]
  },
  {
   "cell_type": "code",
   "execution_count": 63,
   "metadata": {},
   "outputs": [
    {
     "name": "stdout",
     "output_type": "stream",
     "text": [
      "Rest URL: http://localhost:8088/member\n"
     ]
    }
   ],
   "source": [
    "url_str='http://{}:{}/{}'.format('localhost',8088,'member')\n",
    "print('Rest URL:',url_str)"
   ]
  },
  {
   "cell_type": "code",
   "execution_count": 69,
   "metadata": {},
   "outputs": [
    {
     "name": "stdout",
     "output_type": "stream",
     "text": [
      "정수 입력>0\n",
      "0임\n"
     ]
    }
   ],
   "source": [
    "num = input('정수 입력>')\n",
    "num = int(num)\n",
    "\n",
    "if num >0:\n",
    "    print('양수')\n",
    "if num <0:\n",
    "    print('음수')\n",
    "if num ==0:\n",
    "    print('0임')"
   ]
  },
  {
   "cell_type": "code",
   "execution_count": 77,
   "metadata": {},
   "outputs": [
    {
     "name": "stdout",
     "output_type": "stream",
     "text": [
      "now: 2020-08-26 12:13:55.218400\n",
      ".year: 2020\n",
      ".month: 8\n",
      ".day: 26\n",
      ".hour: 12\n",
      ".min: 13\n",
      ".sec: 55\n",
      "2020년 8월 26일  12:13:55\n"
     ]
    }
   ],
   "source": [
    "# 날짜 /시간에 관련된 기능 가져오기\n",
    "import datetime\n",
    "\n",
    "#현재날짜\n",
    "now = datetime.datetime.now()\n",
    "print(\"now:\",now)\n",
    "print(\".year:\",now.year)\n",
    "print(\".month:\",now.month)\n",
    "print(\".day:\",now.day)\n",
    "print(\".hour:\",now.hour)\n",
    "print(\".min:\",now.minute)\n",
    "print(\".sec:\",now.second)\n",
    "\n",
    "print('{}년 {}월 {}일  {}:{}:{}'.format(now.year,now.month,now.day,now.hour,now.minute,now.second))"
   ]
  },
  {
   "cell_type": "code",
   "execution_count": 79,
   "metadata": {},
   "outputs": [
    {
     "name": "stdout",
     "output_type": "stream",
     "text": [
      "여름입니다슈밤\n"
     ]
    }
   ],
   "source": [
    "if 3<now.month<=5:\n",
    "    print('봄이 왔어요')\n",
    "if 6<=now.month<=9:\n",
    "    print('여름입니다슈밤')"
   ]
  },
  {
   "cell_type": "code",
   "execution_count": 84,
   "metadata": {},
   "outputs": [
    {
     "name": "stdout",
     "output_type": "stream",
     "text": [
      "숫자 입력 > 1\n",
      "1 = 홀수임\n"
     ]
    }
   ],
   "source": [
    "num = input('숫자 입력 > ')\n",
    "last = num[-1]\n",
    "\n",
    "if last in '02468':\n",
    "    print(num,'= 짝수임')\n",
    "if last in '13579':\n",
    "    print(num,'= 홀수임')"
   ]
  },
  {
   "cell_type": "code",
   "execution_count": 94,
   "metadata": {},
   "outputs": [
    {
     "name": "stdout",
     "output_type": "stream",
     "text": [
      "정수입력>0\n",
      "0임\n"
     ]
    }
   ],
   "source": [
    "num = int(input('정수입력>'))\n",
    "\n",
    "if num ==0:\n",
    "    print('0임')\n",
    "elif num%2==0:\n",
    "    print('짝수')\n",
    "else:\n",
    "    print('홀수')"
   ]
  },
  {
   "cell_type": "code",
   "execution_count": 103,
   "metadata": {},
   "outputs": [
    {
     "name": "stdout",
     "output_type": "stream",
     "text": [
      "False\n",
      "False\n",
      "False\n",
      "True\n"
     ]
    }
   ],
   "source": [
    "#값이 있는지 없는지 판단하기\n",
    "if 0:\n",
    "    print(True)\n",
    "else:\n",
    "    print(False)\n",
    "    \n",
    "if '':\n",
    "    print(True)\n",
    "else:\n",
    "    print(False)\n",
    "    \n",
    "if []:\n",
    "    print(True)\n",
    "else:\n",
    "    print(False)\n",
    "\n",
    "list = []\n",
    "if list:\n",
    "    print(True)\n",
    "else:\n",
    "    print(False)\n",
    "    "
   ]
  },
  {
   "cell_type": "code",
   "execution_count": 108,
   "metadata": {},
   "outputs": [],
   "source": [
    "#나중에 구현하기 위해 비워두면 에러발생(indented block) --> pass로 넘겨주면됨\n",
    "number = 10\n",
    "if number>0:\n",
    "    pass\n",
    "else:\n",
    "    pass"
   ]
  }
 ],
 "metadata": {
  "kernelspec": {
   "display_name": "Python 3",
   "language": "python",
   "name": "python3"
  },
  "language_info": {
   "codemirror_mode": {
    "name": "ipython",
    "version": 3
   },
   "file_extension": ".py",
   "mimetype": "text/x-python",
   "name": "python",
   "nbconvert_exporter": "python",
   "pygments_lexer": "ipython3",
   "version": "3.8.3"
  }
 },
 "nbformat": 4,
 "nbformat_minor": 4
}
