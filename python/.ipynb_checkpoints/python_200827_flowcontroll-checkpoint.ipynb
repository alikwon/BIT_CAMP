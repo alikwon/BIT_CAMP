{
 "cells": [
  {
   "cell_type": "code",
   "execution_count": 15,
   "metadata": {},
   "outputs": [
    {
     "name": "stdout",
     "output_type": "stream",
     "text": [
      "문자열\n",
      "자\n",
      "[1, 2, 3, 4, 5]\n",
      "3\n",
      "<class 'list'> [100, 10.5, True, False, {}, '문자열', [1, 2, 3, 4, 5]]\n"
     ]
    }
   ],
   "source": [
    "array = [10,10.5,True,False,{},'문자열',[1,2,3,4,5]]\n",
    "\n",
    "array[0]=100\n",
    "\n",
    "print(array[-2])\n",
    "print(array[-2][1])\n",
    "\n",
    "print(array[-1])\n",
    "print(array[-1][2])\n",
    "print(type(array),array)"
   ]
  },
  {
   "cell_type": "code",
   "execution_count": 12,
   "metadata": {},
   "outputs": [
    {
     "data": {
      "text/plain": [
       "[10, 10.5, True, False]"
      ]
     },
     "execution_count": 12,
     "metadata": {},
     "output_type": "execute_result"
    }
   ],
   "source": [
    "array[0:4]"
   ]
  },
  {
   "cell_type": "code",
   "execution_count": 26,
   "metadata": {},
   "outputs": [
    {
     "name": "stdout",
     "output_type": "stream",
     "text": [
      "[1, 2, 3]\n",
      "[1, 2, 3, 1, 2, 3]\n",
      "[1, 2, 3, 1, 2, 3, 1, 2, 3, 1, 2, 3]\n",
      "[0, 1, 2, 3, 4, 5]\n",
      "[6, 7, 8]\n",
      "[0, 1, 2, 3, 4, 5, 6, 7, 8]\n",
      "[0, 1, 2, 3, 4, 5]\n",
      "[1, 2, 3, 4, 5, 6, 7]\n"
     ]
    }
   ],
   "source": [
    "list_a = [1,2,3]\n",
    "\n",
    "print(list_a)\n",
    "\n",
    "#리스트 반복\n",
    "print(list_a+list_a) \n",
    "print(list_a*4)\n",
    "\n",
    "#리스트에 요소추가 = append - 맨뒤에 요소 추가\n",
    "list_a.append(4)\n",
    "list_a.append(5)\n",
    "\n",
    "#리스트에 요소추가 = insert-특정위치에 요소 추가\n",
    "list_a.insert(0,0)\n",
    "print(list_a)\n",
    "\n",
    "\n",
    "list_b = [6,7,8]\n",
    "list_c = list_a+list_b\n",
    "\n",
    "print(list_b)\n",
    "print(list_c)\n",
    "\n",
    "#리스트 요소삭제 = del 사용\n",
    "del list_c[0]\n",
    "\n",
    "#리스트 요소삭제 = pop 사용\n",
    "list_c.pop(7)\n",
    "\n",
    "print(list_a)\n",
    "print(list_c)"
   ]
  },
  {
   "cell_type": "code",
   "execution_count": 52,
   "metadata": {},
   "outputs": [
    {
     "name": "stdout",
     "output_type": "stream",
     "text": [
      "{'name': 'Avengers', 'cast': ['Iron-man', 'thor', 'hulk'], 'runtime': 180}\n",
      "casting :\n",
      "Iron-man\n",
      "thor\n",
      "hulk\n",
      "\t Iron-man\n",
      "\t thor\n",
      "\t hulk\n",
      "runtime : 180 분\n",
      "{'name': 'Avengers', 'cast': ['Iron-man', 'thor', 'hulk']}\n",
      "None\n",
      "상영 시간 정보가 없습니다\n"
     ]
    }
   ],
   "source": [
    "#딕셔너리 = 키:값 형태로 데이터의 구조를 만드는 형식{키:값, 키:값, ...}\n",
    "dic_movie = {\n",
    "    'name':'Avengers',\n",
    "    'cast':['Iron-man','thor','hulk']\n",
    "}\n",
    "#dic요소 추가\n",
    "dic_movie['runtime']=180\n",
    "\n",
    "print(dic_movie)\n",
    "print('casting :')\n",
    "for c in dic_movie['cast']:\n",
    "    print(c)\n",
    "    \n",
    "for c in dic_movie.get('cast'):\n",
    "    print('\\t',c)\n",
    "\n",
    "print('runtime :',dic_movie['runtime'],'분')\n",
    "\n",
    "\n",
    "#dic요소 삭제\n",
    "del dic_movie['runtime']\n",
    "print(dic_movie)\n",
    "#dict 함수 get을 사용하면 존재하지 않는 키에 접근해도\n",
    "# KeyError예외가 발생하지 않는다 \n",
    "print (dic_movie.get('runtime')) \n",
    "\n",
    "#None의 경우는 False\n",
    "if not dic_movie.get('runtime'):\n",
    "    print('상영 시간 정보가 없습니다')"
   ]
  },
  {
   "cell_type": "code",
   "execution_count": null,
   "metadata": {},
   "outputs": [],
   "source": []
  },
  {
   "cell_type": "code",
   "execution_count": null,
   "metadata": {},
   "outputs": [],
   "source": []
  },
  {
   "cell_type": "code",
   "execution_count": null,
   "metadata": {},
   "outputs": [],
   "source": []
  }
 ],
 "metadata": {
  "kernelspec": {
   "display_name": "Python 3",
   "language": "python",
   "name": "python3"
  },
  "language_info": {
   "codemirror_mode": {
    "name": "ipython",
    "version": 3
   },
   "file_extension": ".py",
   "mimetype": "text/x-python",
   "name": "python",
   "nbconvert_exporter": "python",
   "pygments_lexer": "ipython3",
   "version": "3.8.3"
  }
 },
 "nbformat": 4,
 "nbformat_minor": 4
}
