{
 "cells": [
  {
   "cell_type": "code",
   "execution_count": 14,
   "metadata": {},
   "outputs": [
    {
     "name": "stdout",
     "output_type": "stream",
     "text": [
      "예외가 발생하지 않았습니다\n",
      "반복처리 완료\n",
      "예외가 발생하지 않았습니다\n",
      "반복처리 완료\n",
      "예외가 발생하지 않았습니다\n",
      "반복처리 완료\n",
      "ValueError\n",
      "type(ex):  <class 'ValueError'>\n",
      "Exception:  could not convert string to float: '스파이'\n",
      "반복처리 완료\n",
      "예외가 발생하지 않았습니다\n",
      "반복처리 완료\n",
      "['52', '273', '32', '스파이', '103']내부에 있는 숫자는!!!!!['52', '273', '32', '103']입니다\n"
     ]
    }
   ],
   "source": [
    "list_input_a =['52','273','32','스파이','103']\n",
    "\n",
    "list_number =[]\n",
    "for item in list_input_a:\n",
    "    try: #예외가 발생할 위치\n",
    "        float(item)\n",
    "        list_number.append(item)\n",
    "    except ValueError as ve: #예외가 발생했을때 실행할 처리구문\n",
    "        print('ValueError')\n",
    "        print('type(ex): ', type(ve))\n",
    "        print('Exception: ', ve)\n",
    "    except Exception as ex: #예외가 발생했을때 실행할 처리구문\n",
    "        print('Exception')\n",
    "        print('type(ex): ', type(ex))\n",
    "        print('Exception: ', ex)\n",
    "    else:\n",
    "        print('예외가 발생하지 않았습니다')\n",
    "    finally:\n",
    "        print('반복처리 완료')\n",
    "    \n",
    "\n",
    "print('{}내부에 있는 숫자는'.format(list_input_a), end='!!!!!')\n",
    "print('{}입니다'.format(list_number))"
   ]
  },
  {
   "cell_type": "code",
   "execution_count": 16,
   "metadata": {},
   "outputs": [
    {
     "ename": "SyntaxError",
     "evalue": "invalid syntax (<ipython-input-16-98396f604010>, line 2)",
     "output_type": "error",
     "traceback": [
      "\u001b[1;36m  File \u001b[1;32m\"<ipython-input-16-98396f604010>\"\u001b[1;36m, line \u001b[1;32m2\u001b[0m\n\u001b[1;33m    import\u001b[0m\n\u001b[1;37m           ^\u001b[0m\n\u001b[1;31mSyntaxError\u001b[0m\u001b[1;31m:\u001b[0m invalid syntax\n"
     ]
    }
   ],
   "source": [
    "import math\n",
    "\n",
    "math.floor(10.3)"
   ]
  },
  {
   "cell_type": "code",
   "execution_count": 17,
   "metadata": {},
   "outputs": [
    {
     "data": {
      "text/plain": [
       "0.8414709848078965"
      ]
     },
     "execution_count": 17,
     "metadata": {},
     "output_type": "execute_result"
    }
   ],
   "source": [
    "from math import sin\n",
    "sin(1)"
   ]
  },
  {
   "cell_type": "code",
   "execution_count": 18,
   "metadata": {},
   "outputs": [
    {
     "data": {
      "text/plain": [
       "0.8414709848078965"
      ]
     },
     "execution_count": 18,
     "metadata": {},
     "output_type": "execute_result"
    }
   ],
   "source": [
    "import math as m\n",
    "m.sin(1)"
   ]
  },
  {
   "cell_type": "code",
   "execution_count": 22,
   "metadata": {},
   "outputs": [
    {
     "name": "stdout",
     "output_type": "stream",
     "text": [
      "0.4647671419917345\n",
      "15.404760603272688\n",
      "3\n",
      "30\n",
      "8\n"
     ]
    }
   ],
   "source": [
    "import random as r\n",
    "print(r.random()) #0.0 <=x <1.0\n",
    "print(r.uniform(10,20)) # 10 <= x < 20 float 으로 반환\n",
    "print(r.randrange(10)) # 0 <= x < 10\n",
    "print(r.randrange(1,46,1)) # 1~45 중의 숫자하나를 추출\n",
    "list_num=[1,2,3,4,5,6,7,8,9,10]\n",
    "print(r.choice(list_num))"
   ]
  },
  {
   "cell_type": "code",
   "execution_count": 23,
   "metadata": {},
   "outputs": [
    {
     "name": "stdout",
     "output_type": "stream",
     "text": [
      "sys.getwindowsversion(major=10, minor=0, build=19041, platform=2, service_pack='')\n"
     ]
    }
   ],
   "source": [
    "import sys\n",
    "print(sys.getwindowsversion())"
   ]
  },
  {
   "cell_type": "code",
   "execution_count": 28,
   "metadata": {},
   "outputs": [
    {
     "name": "stdout",
     "output_type": "stream",
     "text": [
      "['.ipynb_checkpoints', 'python_200826.ipynb', 'python_200827_flowcontroll.ipynb', 'python_200828_function.ipynb', 'test.py', 'Untitled.ipynb']\n"
     ]
    }
   ],
   "source": [
    "import os\n",
    "#print(os.name)\n",
    "#print(os.getcwd())\n",
    "print(os.listdir())"
   ]
  },
  {
   "cell_type": "code",
   "execution_count": 33,
   "metadata": {},
   "outputs": [
    {
     "ename": "PermissionError",
     "evalue": "[WinError 32] 다른 프로세스가 파일을 사용 중이기 때문에 프로세스가 액세스 할 수 없습니다: 'original.txt' -> 'new.txt'",
     "output_type": "error",
     "traceback": [
      "\u001b[1;31m---------------------------------------------------------------------------\u001b[0m",
      "\u001b[1;31mPermissionError\u001b[0m                           Traceback (most recent call last)",
      "\u001b[1;32m<ipython-input-33-c811a779c8dc>\u001b[0m in \u001b[0;36m<module>\u001b[1;34m\u001b[0m\n\u001b[0;32m      1\u001b[0m \u001b[1;32mwith\u001b[0m \u001b[0mopen\u001b[0m\u001b[1;33m(\u001b[0m\u001b[1;34m'original.txt'\u001b[0m\u001b[1;33m,\u001b[0m\u001b[1;34m'w'\u001b[0m\u001b[1;33m)\u001b[0m \u001b[1;32mas\u001b[0m \u001b[0mfile\u001b[0m\u001b[1;33m:\u001b[0m\u001b[1;33m\u001b[0m\u001b[1;33m\u001b[0m\u001b[0m\n\u001b[0;32m      2\u001b[0m     \u001b[0mfile\u001b[0m\u001b[1;33m.\u001b[0m\u001b[0mwrite\u001b[0m\u001b[1;33m(\u001b[0m\u001b[1;34m'hello'\u001b[0m\u001b[1;33m)\u001b[0m\u001b[1;33m\u001b[0m\u001b[1;33m\u001b[0m\u001b[0m\n\u001b[1;32m----> 3\u001b[1;33m     \u001b[0mos\u001b[0m\u001b[1;33m.\u001b[0m\u001b[0mrename\u001b[0m\u001b[1;33m(\u001b[0m\u001b[1;34m'original.txt'\u001b[0m\u001b[1;33m,\u001b[0m\u001b[1;34m'new.txt'\u001b[0m\u001b[1;33m)\u001b[0m\u001b[1;33m\u001b[0m\u001b[1;33m\u001b[0m\u001b[0m\n\u001b[0m",
      "\u001b[1;31mPermissionError\u001b[0m: [WinError 32] 다른 프로세스가 파일을 사용 중이기 때문에 프로세스가 액세스 할 수 없습니다: 'original.txt' -> 'new.txt'"
     ]
    }
   ],
   "source": [
    "with open('original.txt','w') as file:\n",
    "    file.write('hello')\n",
    "    os.rename('original.txt','new.txt')"
   ]
  },
  {
   "cell_type": "code",
   "execution_count": null,
   "metadata": {},
   "outputs": [],
   "source": []
  }
 ],
 "metadata": {
  "kernelspec": {
   "display_name": "Python 3",
   "language": "python",
   "name": "python3"
  },
  "language_info": {
   "codemirror_mode": {
    "name": "ipython",
    "version": 3
   },
   "file_extension": ".py",
   "mimetype": "text/x-python",
   "name": "python",
   "nbconvert_exporter": "python",
   "pygments_lexer": "ipython3",
   "version": "3.8.3"
  }
 },
 "nbformat": 4,
 "nbformat_minor": 4
}
